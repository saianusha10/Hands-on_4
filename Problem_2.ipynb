{
  "nbformat": 4,
  "nbformat_minor": 0,
  "metadata": {
    "colab": {
      "provenance": [],
      "authorship_tag": "ABX9TyM4QdwX/Rrc54cRnFL8Txmf",
      "include_colab_link": true
    },
    "kernelspec": {
      "name": "python3",
      "display_name": "Python 3"
    },
    "language_info": {
      "name": "python"
    }
  },
  "cells": [
    {
      "cell_type": "markdown",
      "metadata": {
        "id": "view-in-github",
        "colab_type": "text"
      },
      "source": [
        "<a href=\"https://colab.research.google.com/github/saianusha10/Hands-on_4/blob/main/Problem_2.ipynb\" target=\"_parent\"><img src=\"https://colab.research.google.com/assets/colab-badge.svg\" alt=\"Open In Colab\"/></a>"
      ]
    },
    {
      "cell_type": "code",
      "execution_count": 1,
      "metadata": {
        "colab": {
          "base_uri": "https://localhost:8080/"
        },
        "id": "7STZ-ipkLY5C",
        "outputId": "78fb60b4-0dea-4b9e-8541-20c025b5b485"
      },
      "outputs": [
        {
          "output_type": "stream",
          "name": "stdout",
          "text": [
            "[2]\n",
            "[1, 2, 3, 4, 5]\n"
          ]
        }
      ],
      "source": [
        "def remove_dups(array):\n",
        "    if not array:\n",
        "        return []\n",
        "\n",
        "    # Index of the next unique element\n",
        "    index = 0\n",
        "\n",
        "    # Traverse the array starting from the second element\n",
        "    for i in range(1, len(array)):\n",
        "        if array[i] != array[index]:\n",
        "            index += 1\n",
        "            array[index] = array[i]\n",
        "\n",
        "    # Return the array up to the point where unique elements are stored\n",
        "    return array[:index + 1]\n",
        "\n",
        "\n",
        "# Example usage:\n",
        "array1 = [2, 2, 2, 2, 2]\n",
        "array2 = [1, 2, 2, 3, 4, 4, 4, 5, 5]\n",
        "\n",
        "print(remove_dups(array1))\n",
        "# Output: [2]\n",
        "\n",
        "print(remove_dups(array2))\n",
        "# Output: [1, 2, 3, 4, 5]"
      ]
    }
  ]
}