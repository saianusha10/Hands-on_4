{
  "nbformat": 4,
  "nbformat_minor": 0,
  "metadata": {
    "colab": {
      "provenance": [],
      "authorship_tag": "ABX9TyMkjKGzlRwSaGlVblgBKMP7",
      "include_colab_link": true
    },
    "kernelspec": {
      "name": "python3",
      "display_name": "Python 3"
    },
    "language_info": {
      "name": "python"
    }
  },
  "cells": [
    {
      "cell_type": "markdown",
      "metadata": {
        "id": "view-in-github",
        "colab_type": "text"
      },
      "source": [
        "<a href=\"https://colab.research.google.com/github/saianusha10/Hands-on_4/blob/main/Problem_1.ipynb\" target=\"_parent\"><img src=\"https://colab.research.google.com/assets/colab-badge.svg\" alt=\"Open In Colab\"/></a>"
      ]
    },
    {
      "cell_type": "code",
      "execution_count": 3,
      "metadata": {
        "colab": {
          "base_uri": "https://localhost:8080/"
        },
        "id": "5XYxVQJKIKGS",
        "outputId": "64d5457a-4fd8-4919-f55c-3bfabf167170"
      },
      "outputs": [
        {
          "output_type": "stream",
          "name": "stdout",
          "text": [
            "[0, 1, 2, 3, 4, 5, 6, 7, 8, 9, 10, 11]\n",
            "[1, 2, 3, 4, 7, 8, 9, 10, 11]\n"
          ]
        }
      ],
      "source": [
        "import heapq\n",
        "\n",
        "def merge_sorted(arrays):\n",
        "    heap = []\n",
        "    result = []\n",
        "\n",
        "    # Initialize the heap with the first element from each array\n",
        "    for i, arr in enumerate(arrays):\n",
        "        if arr:  # Ensure the array is not empty\n",
        "            heapq.heappush(heap, (arr[0], i, 0))  # (value, array index, element index)\n",
        "\n",
        "    # Continue extracting the smallest element and adding the next element from the same array\n",
        "    while heap:\n",
        "        value, arr_idx, elem_idx = heapq.heappop(heap)\n",
        "        result.append(value)\n",
        "\n",
        "        # If there's a next element in the same array, push it into the heap\n",
        "        if elem_idx + 1 < len(arrays[arr_idx]):\n",
        "            next_val = arrays[arr_idx][elem_idx + 1]\n",
        "            heapq.heappush(heap, (next_val, arr_idx, elem_idx + 1))\n",
        "\n",
        "    return result\n",
        "\n",
        "\n",
        "# Example usage:\n",
        "arrays1 = [\n",
        "    [1, 3, 5, 7],\n",
        "    [2, 4, 6, 8],\n",
        "    [0, 9, 10, 11]\n",
        "]\n",
        "arrays2 = [\n",
        "    [1, 3, 7],\n",
        "    [2, 4, 8],\n",
        "    [9, 10, 11]\n",
        "]\n",
        "\n",
        "print(merge_sorted(arrays1))\n",
        "# Output: [0, 1, 2, 3, 4, 5, 6, 7, 8, 9, 10, 11]\n",
        "\n",
        "print(merge_sorted(arrays2))\n",
        "# Output: [1, 2, 3, 4, 7, 8, 9, 10, 11]"
      ]
    }
  ]
}