{
  "nbformat": 4,
  "nbformat_minor": 0,
  "metadata": {
    "colab": {
      "provenance": [],
      "authorship_tag": "ABX9TyPYoafJVk3QfQi2FXFodu8a",
      "include_colab_link": true
    },
    "kernelspec": {
      "name": "python3",
      "display_name": "Python 3"
    },
    "language_info": {
      "name": "python"
    }
  },
  "cells": [
    {
      "cell_type": "markdown",
      "metadata": {
        "id": "view-in-github",
        "colab_type": "text"
      },
      "source": [
        "<a href=\"https://colab.research.google.com/github/saianusha10/Hands-on_4/blob/main/fib_problem_0.ipynb\" target=\"_parent\"><img src=\"https://colab.research.google.com/assets/colab-badge.svg\" alt=\"Open In Colab\"/></a>"
      ]
    },
    {
      "cell_type": "code",
      "execution_count": 18,
      "metadata": {
        "colab": {
          "base_uri": "https://localhost:8080/"
        },
        "id": "K6jTjPOa8P2f",
        "outputId": "066404e3-4c66-4592-c1ce-d112ef5d0a45"
      },
      "outputs": [
        {
          "output_type": "stream",
          "name": "stdout",
          "text": [
            "Trace of Calls: fib(5) -> fib(4) -> fib(3) -> fib(2) -> fib(1) -> fib(0) -> fib(1) -> fib(2) -> fib(1) -> fib(0) -> fib(3) -> fib(2) -> fib(1) -> fib(0) -> fib(1)\n",
            "Final Result: 5\n"
          ]
        }
      ],
      "source": [
        "trace_calls = []\n",
        "def fib(n):\n",
        "    trace_calls.append(f'fib({n})')\n",
        "    if n == 0:\n",
        "        return 0\n",
        "    if n == 1:\n",
        "        return 1\n",
        "    return fib(n - 1) + fib(n - 2)\n",
        "\n",
        "    final_result = fib(n)\n",
        "    return trace_calls, final_result\n",
        "\n",
        "\n",
        "final_result = fib(5)\n",
        "print(\"Trace of Calls:\", \" -> \".join(trace_calls))\n",
        "print(\"Final Result:\", final_result)\n",
        "\n",
        "\n",
        "\n",
        "\n"
      ]
    },
    {
      "cell_type": "markdown",
      "source": [
        "the stack for recursive call is as follows:\n",
        "\n",
        "fib(5)\n",
        "\n",
        "fib(4)\n",
        "\n",
        "fib(3)\n",
        "\n",
        "fib(2)\n",
        "\n",
        "fib(1) -> returns 1\n",
        "\n",
        "fib(0) -> returns 0\n",
        "\n",
        "fib(1) -> returns 1\n",
        "\n",
        "fib(2)\n",
        "\n",
        "fib(1) -> returns 1\n",
        "\n",
        "fib(0) -> returns 0\n",
        "\n",
        "fib(3)\n",
        "\n",
        "fib(2)\n",
        "\n",
        "fib(1) -> returns 1\n",
        "\n",
        "fib(0) -> returns 0\n",
        "\n",
        "fib(1) -> returns 1"
      ],
      "metadata": {
        "id": "pq5GOFqOFFyo"
      }
    },
    {
      "cell_type": "markdown",
      "source": [
        "(Q1)Prove the time complexity of the algorithm.\n",
        "\n",
        "The time complexity is O(2^n) as the number of calls for each function increases by 2 more calls. for n input, there will be 2^n calls, therefore if there is an input of a large number than computational effort will be more."
      ],
      "metadata": {
        "id": "Q1t4tgd8F2G1"
      }
    },
    {
      "cell_type": "markdown",
      "source": [
        "(Q2) comment on ways you could improve your implementation.\n",
        "\n",
        "bottom-up dynamic programming - we can build the fibonacci sequence iteratively, reducing the time complexity to O(n).\n",
        "\n",
        "memorization - we can store already computed fibonacci values to avoid redundant calculations."
      ],
      "metadata": {
        "id": "DRq9s6yGG6GN"
      }
    }
  ]
}